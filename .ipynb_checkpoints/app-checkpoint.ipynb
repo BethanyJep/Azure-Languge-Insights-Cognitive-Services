{
 "cells": [
  {
   "cell_type": "code",
   "execution_count": null,
   "metadata": {},
   "outputs": [],
   "source": [
    "pip install azure-ai-textanalytics==5.1.0"
   ]
  },
  {
   "cell_type": "code",
   "execution_count": null,
   "metadata": {},
   "outputs": [],
   "source": []
  }
 ],
 "metadata": {
  "interpreter": {
   "hash": "86b6350b4379635afb2dd8e69f39bd992deef93873fd86a7c9455c781c68de5a"
  },
  "kernelspec": {
   "display_name": "Python 3.10.2 ('cogserv-lang-enb': venv)",
   "language": "python",
   "name": "python3"
  },
  "language_info": {
   "name": "python",
   "version": "3.10.2"
  },
  "orig_nbformat": 4
 },
 "nbformat": 4,
 "nbformat_minor": 2
}
